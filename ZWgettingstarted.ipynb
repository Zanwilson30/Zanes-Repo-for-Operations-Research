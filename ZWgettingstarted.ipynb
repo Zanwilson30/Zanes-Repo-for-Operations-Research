{
  "nbformat": 4,
  "nbformat_minor": 0,
  "metadata": {
    "colab": {
      "provenance": []
    },
    "kernelspec": {
      "name": "python3",
      "display_name": "Python 3"
    },
    "language_info": {
      "name": "python"
    }
  },
  "cells": [
    {
      "cell_type": "code",
      "metadata": {
        "id": "fcb2d914"
      },
      "source": [
        "def compute_total_tax(income):\n",
        "    \"\"\"\n",
        "    Computes the total tax based on the 2023 US progressive tax system.\n",
        "\n",
        "    Args:\n",
        "        income: The taxable income.\n",
        "\n",
        "    Return:\n",
        "        The total tax liability.\n",
        "    \"\"\"\n",
        "    tax_brackets = {\n",
        "        0: 0.10,       # 10% on income up to $11,000\n",
        "        11000: 0.12,   # 12% on income over $11,000 up to $44,725\n",
        "        44725: 0.22,   # 22% on income over $44,725 up to $95,375\n",
        "        95375: 0.24,   # 24% on income over $95,375 up to $182,100\n",
        "        182100: 0.32,  # 32% on income over $182,100 up to $231,250\n",
        "        231250: 0.35,  # 35% on income over $231,250 up to $578,125\n",
        "        578125: 0.37   # 37% on income over $578,125\n",
        "    }\n",
        "\n",
        "    tax = 0\n",
        "    previous_bracket_max = 0\n",
        "\n",
        "    for bracket_max, rate in tax_brackets.items():\n",
        "        if income > bracket_max:\n",
        "            taxable_amount_in_bracket = min(income, next(iter({k: v for k, v in tax_brackets.items() if k > bracket_max}.keys()), income)) - bracket_max\n",
        "            tax += taxable_amount_in_bracket * rate\n",
        "            previous_bracket_max = bracket_max\n",
        "        else:\n",
        "            break\n",
        "\n",
        "    return tax"
      ],
      "execution_count": 2,
      "outputs": []
    },
    {
      "cell_type": "code",
      "metadata": {
        "colab": {
          "base_uri": "https://localhost:8080/"
        },
        "id": "02b1fd47",
        "outputId": "99fc4681-8b2f-4c5d-99f3-af8d2573195d"
      },
      "source": [
        "# Example incomes\n",
        "incomes_to_test = [10000, 30000, 70000, 150000, 200000, 400000, 600000]\n",
        "\n",
        "for income in incomes_to_test:\n",
        "    tax_owed = compute_total_tax(income)\n",
        "    print(f\"For an income of ${income:,.2f}, the total tax is ${tax_owed:,.2f}\")"
      ],
      "execution_count": 3,
      "outputs": [
        {
          "output_type": "stream",
          "name": "stdout",
          "text": [
            "For an income of $10,000.00, the total tax is $1,000.00\n",
            "For an income of $30,000.00, the total tax is $3,380.00\n",
            "For an income of $70,000.00, the total tax is $10,707.50\n",
            "For an income of $150,000.00, the total tax is $29,400.00\n",
            "For an income of $200,000.00, the total tax is $42,832.00\n",
            "For an income of $400,000.00, the total tax is $111,894.50\n",
            "For an income of $600,000.00, the total tax is $182,332.00\n"
          ]
        }
      ]
    },
    {
      "cell_type": "code",
      "metadata": {
        "colab": {
          "base_uri": "https://localhost:8080/"
        },
        "id": "c6762bbf",
        "outputId": "fc04a982-df66-4ceb-cffe-b578b72e2ca2"
      },
      "source": [
        "import math\n",
        "\n",
        "def derivative_ln_x(x, h):\n",
        "  \"\"\"\n",
        "  Approximates the derivative of ln(x) at a given point using the difference formula.\n",
        "\n",
        "  Args:\n",
        "    x: The point at which to approximate the derivative.\n",
        "    h: The step size.\n",
        "\n",
        "  Returns:\n",
        "    The approximate derivative of ln(x) at x.\n",
        "  \"\"\"\n",
        "  return (math.log(x + h) - math.log(x)) / h\n",
        "\n",
        "# Approximate the derivative of ln(x) at x = 1 with different small h values\n",
        "h_values = [1, 0.1, 0.002, 0.0000000001, 0.0001]\n",
        "\n",
        "for h in h_values:\n",
        "    approx_derivative = derivative_ln_x(1, h)\n",
        "    print(f\"The approximate derivative of ln(x) at x = 1 with h = {h} is: {approx_derivative}\")"
      ],
      "execution_count": 6,
      "outputs": [
        {
          "output_type": "stream",
          "name": "stdout",
          "text": [
            "The approximate derivative of ln(x) at x = 1 with h = 1 is: 0.6931471805599453\n",
            "The approximate derivative of ln(x) at x = 1 with h = 0.1 is: 0.9531017980432493\n",
            "The approximate derivative of ln(x) at x = 1 with h = 0.002 is: 0.9990013313365289\n",
            "The approximate derivative of ln(x) at x = 1 with h = 1e-10 is: 1.000000082690371\n",
            "The approximate derivative of ln(x) at x = 1 with h = 0.0001 is: 0.9999500033329731\n"
          ]
        }
      ]
    }
  ]
}