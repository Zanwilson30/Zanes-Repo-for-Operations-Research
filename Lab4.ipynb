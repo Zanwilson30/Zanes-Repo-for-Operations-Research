{
  "nbformat": 4,
  "nbformat_minor": 0,
  "metadata": {
    "colab": {
      "provenance": []
    },
    "kernelspec": {
      "name": "python3",
      "display_name": "Python 3"
    },
    "language_info": {
      "name": "python"
    }
  },
  "cells": [
    {
      "cell_type": "markdown",
      "metadata": {
        "id": "4f59e64b"
      },
      "source": [
        "## Compare Results"
      ]
    },
    {
      "cell_type": "markdown",
      "metadata": {
        "id": "7e89e6b2"
      },
      "source": [
        "**Reasoning**:\n",
        "Compare the optimal x and y values and the maximum objective function values obtained from both methods and print a summary."
      ]
    },
    {
      "cell_type": "code",
      "metadata": {
        "colab": {
          "base_uri": "https://localhost:8080/"
        },
        "id": "d821b852",
        "outputId": "6a2cd75d-463c-4e45-c7e2-3e1118d32fde"
      },
      "source": [
        "print(\"--- Comparison of Results ---\")\n",
        "print(f\"Graphical Method Optimal x1: {graphical_optimal_x1}\")\n",
        "print(f\"Graphical Method Optimal x2: {graphical_optimal_x2}\")\n",
        "print(f\"Graphical Method Maximum Value: {graphical_maximum_value}\")\n",
        "print(\"-\" * 27)\n",
        "print(f\"Solver Method Optimal x1: {solver_optimal_x1}\")\n",
        "print(f\"Solver Method Optimal x2: {solver_optimal_x2}\")\n",
        "print(f\"Solver Method Maximum Value: {solver_maximum_value}\")\n",
        "print(\"-\" * 27)\n",
        "\n",
        "# Check if the results are approximately equal\n",
        "tolerance = 1e-9 # Define a tolerance for floating-point comparison\n",
        "\n",
        "if (abs(graphical_optimal_x1 - solver_optimal_x1) < tolerance and\n",
        "    abs(graphical_optimal_x2 - solver_optimal_x2) < tolerance and\n",
        "    abs(graphical_maximum_value - solver_maximum_value) < tolerance):\n",
        "    print(\"The results from the graphical method and the solver are in agreement.\")\n",
        "else:\n",
        "    print(\"The results from the graphical method and the solver differ.\")"
      ],
      "execution_count": 24,
      "outputs": [
        {
          "output_type": "stream",
          "name": "stdout",
          "text": [
            "--- Comparison of Results ---\n",
            "Graphical Method Optimal x1: 0.375\n",
            "Graphical Method Optimal x2: 5.625\n",
            "Graphical Method Maximum Value: 12.375\n",
            "---------------------------\n",
            "Solver Method Optimal x1: 0.375\n",
            "Solver Method Optimal x2: 5.625\n",
            "Solver Method Maximum Value: 12.375\n",
            "---------------------------\n",
            "The results from the graphical method and the solver are in agreement.\n"
          ]
        }
      ]
    },
    {
      "cell_type": "code",
      "metadata": {
        "colab": {
          "base_uri": "https://localhost:8080/"
        },
        "id": "12704716",
        "outputId": "3d754ce2-1c75-44fe-e86e-632adf071e72"
      },
      "source": [
        "from scipy.optimize import linprog\n",
        "\n",
        "# Objective function coefficients (negated for minimization)\n",
        "# We'll use the coefficients from the previously defined objective P = 3x + 2y\n",
        "c_linprog = [-3, -2]\n",
        "\n",
        "# Inequality constraints coefficients and bounds from the previous 2-variable problem\n",
        "# x + y <= 6\n",
        "# 9x + y <= 9\n",
        "A_ub = [\n",
        "    [1, 1],\n",
        "    [9, 1]\n",
        "]\n",
        "b_ub = [6, 9]\n",
        "\n",
        "# Bounds for the variables (x >= 0, y >= 0)\n",
        "x_bounds = (0, None)\n",
        "y_bounds = (0, None)\n",
        "bounds = [x_bounds, y_bounds]\n",
        "\n",
        "\n",
        "# Call linprog\n",
        "# The method='highs' is a good default, but others like 'simplex' can be specified\n",
        "result = linprog(c_linprog, A_ub=A_ub, b_ub=b_ub, bounds=bounds, method='highs')\n",
        "\n",
        "# Extract results\n",
        "solver_optimal_x1 = result.x[0]\n",
        "solver_optimal_x2 = result.x[1]\n",
        "# Negate the objective function value because linprog minimizes\n",
        "solver_maximum_value = -result.fun\n",
        "\n",
        "# Print the results\n",
        "print(f\"Optimal x1 (from solver): {solver_optimal_x1}\")\n",
        "print(f\"Optimal x2 (from solver): {solver_optimal_x2}\")\n",
        "print(f\"Maximum objective function value (from solver): {solver_maximum_value}\")"
      ],
      "execution_count": 23,
      "outputs": [
        {
          "output_type": "stream",
          "name": "stdout",
          "text": [
            "Optimal x1 (from solver): 0.375\n",
            "Optimal x2 (from solver): 5.625\n",
            "Maximum objective function value (from solver): 12.375\n"
          ]
        }
      ]
    },
    {
      "cell_type": "code",
      "metadata": {
        "id": "ce67cee1"
      },
      "source": [
        "# Define the coefficients for the inequalities:\n",
        "# x + y <= 6  => -x - y >= -6\n",
        "# 9x + y <= 9 => -9x - y >= -9\n",
        "# x >= 0\n",
        "# y >= 0\n",
        "\n",
        "# Coefficients of the inequality constraints (in the form Ax >= b)\n",
        "A = [\n",
        "    [-1, -1],\n",
        "    [-9, -1],\n",
        "    [-1, 0],  # for x >= 0  => -x <= 0 => -x >= 0\n",
        "    [0, -1]   # for y >= 0  => -y <= 0 => -y >= 0\n",
        "]\n",
        "\n",
        "# Right-hand side of the inequality constraints\n",
        "b = [-6, -9, 0, 0]"
      ],
      "execution_count": 13,
      "outputs": []
    },
    {
      "cell_type": "markdown",
      "metadata": {
        "id": "df39e1e5"
      },
      "source": [
        "# Task\n",
        "Find the corner points of the feasible region, graph the feasible set, find the corner point that maximizes the objective function $P=3x+2y$, introduce slack variables, find the corner points again using the concept of slack variables, and solve the linear programming problem using a built-in solver. Finally, compare the results obtained from the graphical method and the built-in solver."
      ]
    },
    {
      "cell_type": "markdown",
      "metadata": {
        "id": "91ea1572"
      },
      "source": [
        "## Define the problem (2 variables)\n",
        "\n",
        "### Subtask:\n",
        "Clearly define the system of inequalities and the objective function P=3x+2y for the 2-variable case, using the constraints from the previous problem: $x+y \\le 6$, $9x+y \\le 9$, $x \\ge 0$, $y \\ge 0$.\n"
      ]
    },
    {
      "cell_type": "markdown",
      "metadata": {
        "id": "adea3093"
      },
      "source": [
        "**Reasoning**:\n",
        "Define the objective function coefficients, inequality constraints, and variable bounds as requested by the instructions.\n",
        "\n"
      ]
    },
    {
      "cell_type": "code",
      "metadata": {
        "id": "5066f107"
      },
      "source": [
        "# Define the coefficients of the objective function (P = 3x + 2y)\n",
        "c = [3, 2]\n",
        "\n",
        "# Define the coefficients of the inequality constraints:\n",
        "# x + y <= 6\n",
        "# 9x + y <= 9\n",
        "# x >= 0\n",
        "# y >= 0\n",
        "\n",
        "# Coefficients of the inequality constraints (in the form Ax <= b)\n",
        "A_ub = [\n",
        "    [1, 1],\n",
        "    [9, 1]\n",
        "]\n",
        "\n",
        "# Right-hand side of the inequality constraints\n",
        "b_ub = [6, 9]\n",
        "\n",
        "# Bounds for the variables (x >= 0, y >= 0)\n",
        "x_bounds = (0, None)\n",
        "y_bounds = (0, None)"
      ],
      "execution_count": 14,
      "outputs": []
    },
    {
      "cell_type": "markdown",
      "metadata": {
        "id": "fe4dc8bb"
      },
      "source": [
        "## Graph the feasible set\n"
      ]
    },
    {
      "cell_type": "code",
      "metadata": {
        "colab": {
          "base_uri": "https://localhost:8080/",
          "height": 564
        },
        "id": "TWjxDCINLpnX",
        "outputId": "40de8818-6a16-45c4-ebc9-bcab1c3006a5"
      },
      "source": [
        "import matplotlib.pyplot as plt\n",
        "import numpy as np\n",
        "\n",
        "fig, ax = plt.subplots(figsize=(8, 6))\n",
        "\n",
        "x = np.linspace(0, 10, 200)\n",
        "\n",
        "# Plot boundary lines\n",
        "y1 = 6 - x\n",
        "y2 = 9 - 9 * x\n",
        "\n",
        "ax.plot(x, y1, label=r'$x + y \\leq 6$', color='blue')\n",
        "ax.plot(x, y2, label=r'$9x + y \\leq 9$', color='red')\n",
        "\n",
        "# Fill the feasible region\n",
        "y3 = np.maximum(0, 9 - 9 * x)\n",
        "y4 = np.maximum(0, 6 - x)\n",
        "y_fill = np.minimum(y3, y4)\n",
        "\n",
        "ax.fill_between(x, 0, y_fill, where=(x >= 0), color='green', alpha=0.3, label='Feasible Region')\n",
        "\n",
        "# Set plot limits\n",
        "ax.set_xlim(0, 7)\n",
        "ax.set_ylim(0, 7)\n",
        "\n",
        "# Add labels and title\n",
        "ax.set_xlabel('x')\n",
        "ax.set_ylabel('y')\n",
        "ax.set_title('Feasible Region')\n",
        "\n",
        "# Add legend and grid\n",
        "ax.legend()\n",
        "ax.grid(True)\n",
        "\n",
        "plt.show()"
      ],
      "execution_count": 16,
      "outputs": [
        {
          "output_type": "display_data",
          "data": {
            "text/plain": [
              "<Figure size 800x600 with 1 Axes>"
            ],
            "image/png": "[encoded data removed]"
          },
          "metadata": {}
        }
      ]
    },
    {
      "cell_type": "markdown",
      "metadata": {
        "id": "7c3ff14c"
      },
      "source": [
        "## Find the corner points (graphical method)\n"
      ]
    },
    {
      "cell_type": "code",
      "metadata": {
        "colab": {
          "base_uri": "https://localhost:8080/"
        },
        "id": "87013946",
        "outputId": "b44f24bc-79a3-4695-ed23-1abf018f51f3"
      },
      "source": [
        "# Boundary lines:\n",
        "# L1: x = 0\n",
        "# L2: y = 0\n",
        "# L3: x + y = 6\n",
        "# L4: 9x + y = 9\n",
        "\n",
        "# Intersection of L1 (x=0) and L2 (y=0)\n",
        "P1 = (0, 0)\n",
        "\n",
        "# Intersection of L1 (x=0) and L3 (x + y = 6)\n",
        "# 0 + y = 6 => y = 6\n",
        "P2 = (0, 6)\n",
        "\n",
        "# Intersection of L1 (x=0) and L4 (9x + y = 9)\n",
        "# 9(0) + y = 9 => y = 9\n",
        "P3 = (0, 9)\n",
        "\n",
        "# Intersection of L2 (y=0) and L3 (x + y = 6)\n",
        "# x + 0 = 6 => x = 6\n",
        "P4 = (6, 0)\n",
        "\n",
        "# Intersection of L2 (y=0) and L4 (9x + y = 9)\n",
        "# 9x + 0 = 9 => 9x = 9 => x = 1\n",
        "P5 = (1, 0)\n",
        "\n",
        "# Intersection of L3 (x + y = 6) and L4 (9x + y = 9)\n",
        "# Subtract L3 from L4: (9x + y) - (x + y) = 9 - 6 => 8x = 3 => x = 3/8\n",
        "# Substitute x = 3/8 into L3: 3/8 + y = 6 => y = 6 - 3/8 = (48 - 3) / 8 = 45/8\n",
        "P6 = (3/8, 45/8)\n",
        "\n",
        "# Check if each intersection point is in the feasible region (satisfies all inequalities)\n",
        "points = [P1, P2, P3, P4, P5, P6]\n",
        "feasible_points = []\n",
        "\n",
        "for p in points:\n",
        "    x, y = p\n",
        "    # Check x >= 0 and y >= 0\n",
        "    if x >= 0 and y >= 0:\n",
        "        # Check x + y <= 6\n",
        "        if x + y <= 6:\n",
        "            # Check 9x + y <= 9\n",
        "            if 9 * x + y <= 9:\n",
        "                feasible_points.append(p)\n",
        "\n",
        "print(\"Corner points of the feasible region:\", feasible_points)"
      ],
      "execution_count": 17,
      "outputs": [
        {
          "output_type": "stream",
          "name": "stdout",
          "text": [
            "Corner points of the feasible region: [(0, 0), (0, 6), (1, 0), (0.375, 5.625)]\n"
          ]
        }
      ]
    },
    {
      "cell_type": "markdown",
      "metadata": {
        "id": "0136c1b8"
      },
      "source": [
        "## Evaluate the objective function at corner points\n"
      ]
    },
    {
      "cell_type": "code",
      "metadata": {
        "colab": {
          "base_uri": "https://localhost:8080/"
        },
        "id": "e4793ae8",
        "outputId": "4214b9fa-20e5-4cba-c474-4c3c80660088"
      },
      "source": [
        "def objective_function(x, y):\n",
        "  \"\"\"Calculates the value of the objective function P = 3x + 2y.\"\"\"\n",
        "  return 3 * x + 2 * y\n",
        "\n",
        "# Iterate through the feasible corner points and calculate P\n",
        "corner_point_values = []\n",
        "for point in feasible_points:\n",
        "    x, y = point\n",
        "    p_value = objective_function(x, y)\n",
        "    corner_point_values.append((point, p_value))\n",
        "\n",
        "# Print the corner points and their objective function values\n",
        "print(\"Objective function values at each feasible corner point:\")\n",
        "for point, value in corner_point_values:\n",
        "    print(f\"Point: {point}, P = {value}\")\n"
      ],
      "execution_count": 18,
      "outputs": [
        {
          "output_type": "stream",
          "name": "stdout",
          "text": [
            "Objective function values at each feasible corner point:\n",
            "Point: (0, 0), P = 0\n",
            "Point: (0, 6), P = 12\n",
            "Point: (1, 0), P = 3\n",
            "Point: (0.375, 5.625), P = 12.375\n"
          ]
        }
      ]
    },
    {
      "cell_type": "markdown",
      "metadata": {
        "id": "bf0071f2"
      },
      "source": [
        "## Identify the optimal corner point (graphical method)"
      ]
    },
    {
      "cell_type": "markdown",
      "metadata": {
        "id": "04d792fc"
      },
      "source": [
        "**Reasoning**:\n",
        "Identify the corner point with the maximum objective function value and print it.\n",
        "\n"
      ]
    },
    {
      "cell_type": "code",
      "metadata": {
        "colab": {
          "base_uri": "https://localhost:8080/"
        },
        "id": "62fe6006",
        "outputId": "1fa4951c-f826-483e-9e11-156eae804d75"
      },
      "source": [
        "# Find the corner point with the maximum objective function value\n",
        "optimal_point = None\n",
        "maximum_value = -float('inf') # Initialize with a very small value\n",
        "\n",
        "for point, value in corner_point_values:\n",
        "    if value > maximum_value:\n",
        "        maximum_value = value\n",
        "        optimal_point = point\n",
        "\n",
        "# Print the optimal corner point and the maximum value\n",
        "print(f\"\\nThe corner point that maximizes the objective function is: {optimal_point}\")\n",
        "print(f\"The maximum value of the objective function is: {maximum_value}\")\n",
        "\n",
        "graphical_optimal_x1 = optimal_point[0]\n",
        "graphical_optimal_x2 = optimal_point[1]\n",
        "graphical_maximum_value = maximum_value"
      ],
      "execution_count": 19,
      "outputs": [
        {
          "output_type": "stream",
          "name": "stdout",
          "text": [
            "\n",
            "The corner point that maximizes the objective function is: (0.375, 5.625)\n",
            "The maximum value of the objective function is: 12.375\n"
          ]
        }
      ]
    },
    {
      "cell_type": "markdown",
      "metadata": {
        "id": "9279d0b6"
      },
      "source": [
        "## Introduce slack variables\n",
        "\n",
        "### Subtask:\n",
        "Rewrite the inequality constraints as equalities by introducing slack variables.\n"
      ]
    },
    {
      "cell_type": "code",
      "metadata": {
        "colab": {
          "base_uri": "https://localhost:8080/"
        },
        "id": "033dfd0c",
        "outputId": "efece5ad-3445-4927-c3af-8c58d82f8cc7"
      },
      "source": [
        "# Original inequality constraints:\n",
        "# x + y <= 6\n",
        "# 9x + y <= 9\n",
        "# x >= 0\n",
        "# y >= 0\n",
        "\n",
        "# Introduce slack variables s1 and s2 (where s1 >= 0, s2 >= 0) to convert inequalities to equalities:\n",
        "# x + y + s1 = 6\n",
        "# 9x + y + s2 = 9\n",
        "\n",
        "print(\"New equations with slack variables:\")\n",
        "print(\"x + y + s1 = 6\")\n",
        "print(\"9x + y + s2 = 9\")\n",
        "print(\"where s1 >= 0 and s2 >= 0\")"
      ],
      "execution_count": 20,
      "outputs": [
        {
          "output_type": "stream",
          "name": "stdout",
          "text": [
            "New equations with slack variables:\n",
            "x + y + s1 = 6\n",
            "9x + y + s2 = 9\n",
            "where s1 >= 0 and s2 >= 0\n"
          ]
        }
      ]
    },
    {
      "cell_type": "markdown",
      "metadata": {
        "id": "282a22c9"
      },
      "source": [
        "## Set up for simplex method (optional but related to slack variables)\n"
      ]
    },
    {
      "cell_type": "code",
      "metadata": {
        "colab": {
          "base_uri": "https://localhost:8080/"
        },
        "id": "018d5d50",
        "outputId": "2b1a5472-7eb1-4ec1-dc39-930df58902f3"
      },
      "source": [
        "# 1. Objective function for Simplex (already in maximization form)\n",
        "print(\"Objective function: Maximize P = 3x + 2y\")\n",
        "\n",
        "# 2. Equality constraints with slack variables (from previous step)\n",
        "print(\"\\nEquality constraints with slack variables:\")\n",
        "print(\"x + y + s1 = 6\")\n",
        "print(\"9x + y + s2 = 9\")\n",
        "print(\"x >= 0, y >= 0, s1 >= 0, s2 >= 0\")\n",
        "\n",
        "# 3. Initial Simplex Tableau structure\n",
        "print(\"\\nStructure of the Initial Simplex Tableau:\")\n",
        "print(\"-----------------------------------------------------------\")\n",
        "print(\"  |  x  |  y  | s1  | s2  | RHS |\")\n",
        "print(\"-----------------------------------------------------------\")\n",
        "print(\"s1|  1  |  1  |  1  |  0  |  6  |\") # Row for the first constraint\n",
        "print(\"s2|  9  |  1  |  0  |  1  |  9  |\") # Row for the second constraint\n",
        "print(\"-----------------------------------------------------------\")\n",
        "print(\"P | -3  | -2  |  0  |  0  |  0  |\") # Row for the objective function (coefficients negated)\n",
        "print(\"-----------------------------------------------------------\")\n",
        "\n",
        "# 4. Initial Basic and Non-Basic Variables\n",
        "print(\"\\nInitial Basic Variables: s1, s2\")\n",
        "print(\"Initial Non-Basic Variables: x, y\")"
      ],
      "execution_count": 21,
      "outputs": [
        {
          "output_type": "stream",
          "name": "stdout",
          "text": [
            "Objective function: Maximize P = 3x + 2y\n",
            "\n",
            "Equality constraints with slack variables:\n",
            "x + y + s1 = 6\n",
            "9x + y + s2 = 9\n",
            "x >= 0, y >= 0, s1 >= 0, s2 >= 0\n",
            "\n",
            "Structure of the Initial Simplex Tableau:\n",
            "-----------------------------------------------------------\n",
            "  |  x  |  y  | s1  | s2  | RHS |\n",
            "-----------------------------------------------------------\n",
            "s1|  1  |  1  |  1  |  0  |  6  |\n",
            "s2|  9  |  1  |  0  |  1  |  9  |\n",
            "-----------------------------------------------------------\n",
            "P | -3  | -2  |  0  |  0  |  0  |\n",
            "-----------------------------------------------------------\n",
            "\n",
            "Initial Basic Variables: s1, s2\n",
            "Initial Non-Basic Variables: x, y\n"
          ]
        }
      ]
    },
    {
      "cell_type": "markdown",
      "metadata": {
        "id": "8de84091"
      },
      "source": [
        "## Solve using a built-in linear programming solver"
      ]
    },
    {
      "cell_type": "code",
      "metadata": {
        "colab": {
          "base_uri": "https://localhost:8080/"
        },
        "id": "688fe5ca",
        "outputId": "3f30f206-f114-4182-88b1-1913ab16a184"
      },
      "source": [
        "from scipy.optimize import linprog\n",
        "\n",
        "# Objective function coefficients (negated for minimization)\n",
        "c_linprog = [-c[0], -c[1]]\n",
        "\n",
        "# Call linprog\n",
        "result = linprog(c_linprog, A_ub=A_ub, b_ub=b_ub, bounds=[x_bounds, y_bounds])\n",
        "\n",
        "# Extract results\n",
        "solver_optimal_x1 = result.x[0]\n",
        "solver_optimal_x2 = result.x[1]\n",
        "# Negate the objective function value because linprog minimizes\n",
        "solver_maximum_value = -result.fun\n",
        "\n",
        "# Print the results\n",
        "print(f\"Optimal x1 (from solver): {solver_optimal_x1}\")\n",
        "print(f\"Optimal x2 (from solver): {solver_optimal_x2}\")\n",
        "print(f\"Maximum objective function value (from solver): {solver_maximum_value}\")"
      ],
      "execution_count": 22,
      "outputs": [
        {
          "output_type": "stream",
          "name": "stdout",
          "text": [
            "Optimal x1 (from solver): 0.375\n",
            "Optimal x2 (from solver): 5.625\n",
            "Maximum objective function value (from solver): 12.375\n"
          ]
        }
      ]
    },
    {
      "cell_type": "markdown",
      "metadata": {
        "id": "377a2b5b"
      },
      "source": [
        "# Task\n",
        "Write the equations that describe the problem completely using latex encoding, Find corner points, Graph feasible set, Find the corner that maximizes the objective function, Introduce slack variables, find the corner points again, and Solve using a built-in Linear Programming Solver. Compare your answers"
      ]
    },
    {
      "cell_type": "markdown",
      "metadata": {
        "id": "83051970"
      },
      "source": [
        "## Define the problem and write equations in latex\n"
      ]
    },
    {
      "cell_type": "code",
      "metadata": {
        "colab": {
          "base_uri": "https://localhost:8080/",
          "height": 717
        },
        "id": "b603179c",
        "outputId": "a06affbf-5e99-4045-aafe-6882fa07fae3"
      },
      "source": [
        "from IPython.display import display, Markdown\n",
        "\n",
        "# Define the decision variables\n",
        "display(Markdown(r\"## Decision Variables\"))\n",
        "display(Markdown(r\"Let $x$ be the number of standard snowboards produced.\"))\n",
        "display(Markdown(r\"Let $y$ be the number of deluxe snowboards produced.\"))\n",
        "display(Markdown(r\"We must have $x \\ge 0$ and $y \\ge 0$ as we cannot produce a negative number of snowboards.\"))\n",
        "\n",
        "# Define the objective function\n",
        "display(Markdown(r\"## Objective Function\"))\n",
        "display(Markdown(r\"The objective is to maximize the total revenue, $R$.\"))\n",
        "display(Markdown(r\"The revenue from standard snowboards is $180x$ and from deluxe snowboards is $252y$.\"))\n",
        "display(Markdown(r\"The objective function is: $R = 180x + 252y$\"))\n",
        "\n",
        "# Define the constraints\n",
        "display(Markdown(r\"## Constraints\"))\n",
        "display(Markdown(r\"There are constraints based on available production hours and material.\"))\n",
        "display(Markdown(r\"**Production Hours Constraint:** Each standard snowboard requires 13 hours and each deluxe requires 26 hours. There are 1040 hours available.\"))\n",
        "display(Markdown(r\"The constraint is: $13x + 26y \\le 1040$\"))\n",
        "display(Markdown(r\"**Material Constraint:** Each standard snowboard requires 75 units of material and each deluxe requires 90 units. There are 4500 units of material available.\"))\n",
        "display(Markdown(r\"The constraint is: $75x + 90y \\le 4500$\"))\n",
        "\n",
        "display(Markdown(r\"**Non-negativity Constraints:**\"))\n",
        "display(Markdown(r\"$x \\ge 0$\"))\n",
        "display(Markdown(r\"$y \\ge 0$\"))\n",
        "\n",
        "display(Markdown(r\"## Summary of the Linear Programming Problem\"))\n",
        "display(Markdown(r\"Maximize $R = 180x + 252y$\"))\n",
        "display(Markdown(r\"Subject to:\"))\n",
        "display(Markdown(r\"$13x + 26y \\le 1040$\"))\n",
        "display(Markdown(r\"$75x + 90y \\le 4500$\"))\n",
        "display(Markdown(r\"$x \\ge 0$\"))\n",
        "display(Markdown(r\"$y \\ge 0$\"))"
      ],
      "execution_count": 25,
      "outputs": [
        {
          "output_type": "display_data",
          "data": {
            "text/plain": [
              "<IPython.core.display.Markdown object>"
            ],
            "text/markdown": "## Decision Variables"
          },
          "metadata": {}
        },
        {
          "output_type": "display_data",
          "data": {
            "text/plain": [
              "<IPython.core.display.Markdown object>"
            ],
            "text/markdown": "Let $x$ be the number of standard snowboards produced."
          },
          "metadata": {}
        },
        {
          "output_type": "display_data",
          "data": {
            "text/plain": [
              "<IPython.core.display.Markdown object>"
            ],
            "text/markdown": "Let $y$ be the number of deluxe snowboards produced."
          },
          "metadata": {}
        },
        {
          "output_type": "display_data",
          "data": {
            "text/plain": [
              "<IPython.core.display.Markdown object>"
            ],
            "text/markdown": "We must have $x \\ge 0$ and $y \\ge 0$ as we cannot produce a negative number of snowboards."
          },
          "metadata": {}
        },
        {
          "output_type": "display_data",
          "data": {
            "text/plain": [
              "<IPython.core.display.Markdown object>"
            ],
            "text/markdown": "## Objective Function"
          },
          "metadata": {}
        },
        {
          "output_type": "display_data",
          "data": {
            "text/plain": [
              "<IPython.core.display.Markdown object>"
            ],
            "text/markdown": "The objective is to maximize the total revenue, $R$."
          },
          "metadata": {}
        },
        {
          "output_type": "display_data",
          "data": {
            "text/plain": [
              "<IPython.core.display.Markdown object>"
            ],
            "text/markdown": "The revenue from standard snowboards is $180x$ and from deluxe snowboards is $252y$."
          },
          "metadata": {}
        },
        {
          "output_type": "display_data",
          "data": {
            "text/plain": [
              "<IPython.core.display.Markdown object>"
            ],
            "text/markdown": "The objective function is: $R = 180x + 252y$"
          },
          "metadata": {}
        },
        {
          "output_type": "display_data",
          "data": {
            "text/plain": [
              "<IPython.core.display.Markdown object>"
            ],
            "text/markdown": "## Constraints"
          },
          "metadata": {}
        },
        {
          "output_type": "display_data",
          "data": {
            "text/plain": [
              "<IPython.core.display.Markdown object>"
            ],
            "text/markdown": "There are constraints based on available production hours and material."
          },
          "metadata": {}
        },
        {
          "output_type": "display_data",
          "data": {
            "text/plain": [
              "<IPython.core.display.Markdown object>"
            ],
            "text/markdown": "**Production Hours Constraint:** Each standard snowboard requires 13 hours and each deluxe requires 26 hours. There are 1040 hours available."
          },
          "metadata": {}
        },
        {
          "output_type": "display_data",
          "data": {
            "text/plain": [
              "<IPython.core.display.Markdown object>"
            ],
            "text/markdown": "The constraint is: $13x + 26y \\le 1040$"
          },
          "metadata": {}
        },
        {
          "output_type": "display_data",
          "data": {
            "text/plain": [
              "<IPython.core.display.Markdown object>"
            ],
            "text/markdown": "**Material Constraint:** Each standard snowboard requires 75 units of material and each deluxe requires 90 units. There are 4500 units of material available."
          },
          "metadata": {}
        },
        {
          "output_type": "display_data",
          "data": {
            "text/plain": [
              "<IPython.core.display.Markdown object>"
            ],
            "text/markdown": "The constraint is: $75x + 90y \\le 4500$"
          },
          "metadata": {}
        },
        {
          "output_type": "display_data",
          "data": {
            "text/plain": [
              "<IPython.core.display.Markdown object>"
            ],
            "text/markdown": "**Non-negativity Constraints:**"
          },
          "metadata": {}
        },
        {
          "output_type": "display_data",
          "data": {
            "text/plain": [
              "<IPython.core.display.Markdown object>"
            ],
            "text/markdown": "$x \\ge 0$"
          },
          "metadata": {}
        },
        {
          "output_type": "display_data",
          "data": {
            "text/plain": [
              "<IPython.core.display.Markdown object>"
            ],
            "text/markdown": "$y \\ge 0$"
          },
          "metadata": {}
        },
        {
          "output_type": "display_data",
          "data": {
            "text/plain": [
              "<IPython.core.display.Markdown object>"
            ],
            "text/markdown": "## Summary of the Linear Programming Problem"
          },
          "metadata": {}
        },
        {
          "output_type": "display_data",
          "data": {
            "text/plain": [
              "<IPython.core.display.Markdown object>"
            ],
            "text/markdown": "Maximize $R = 180x + 252y$"
          },
          "metadata": {}
        },
        {
          "output_type": "display_data",
          "data": {
            "text/plain": [
              "<IPython.core.display.Markdown object>"
            ],
            "text/markdown": "Subject to:"
          },
          "metadata": {}
        },
        {
          "output_type": "display_data",
          "data": {
            "text/plain": [
              "<IPython.core.display.Markdown object>"
            ],
            "text/markdown": "$13x + 26y \\le 1040$"
          },
          "metadata": {}
        },
        {
          "output_type": "display_data",
          "data": {
            "text/plain": [
              "<IPython.core.display.Markdown object>"
            ],
            "text/markdown": "$75x + 90y \\le 4500$"
          },
          "metadata": {}
        },
        {
          "output_type": "display_data",
          "data": {
            "text/plain": [
              "<IPython.core.display.Markdown object>"
            ],
            "text/markdown": "$x \\ge 0$"
          },
          "metadata": {}
        },
        {
          "output_type": "display_data",
          "data": {
            "text/plain": [
              "<IPython.core.display.Markdown object>"
            ],
            "text/markdown": "$y \\ge 0$"
          },
          "metadata": {}
        }
      ]
    },
    {
      "cell_type": "code",
      "metadata": {
        "colab": {
          "base_uri": "https://localhost:8080/",
          "height": 718
        },
        "id": "21fda067",
        "outputId": "aefe60b7-57f3-4c4b-8582-627e6417d44e"
      },
      "source": [
        "import matplotlib.pyplot as plt\n",
        "import numpy as np\n",
        "\n",
        "fig, ax = plt.subplots(figsize=(10, 8))\n",
        "\n",
        "x = np.linspace(0, 100, 400) # Range for standard snowboards\n",
        "\n",
        "# Constraint 1: 13x + 26y <= 1040 => 26y <= 1040 - 13x => y <= (1040 - 13x) / 26\n",
        "y1 = (1040 - 13 * x) / 26\n",
        "y1[y1 < 0] = 0 # Apply non-negativity constraint for y\n",
        "\n",
        "# Constraint 2: 75x + 90y <= 4500 => 90y <= 4500 - 75x => y <= (4500 - 75x) / 90\n",
        "y2 = (4500 - 75 * x) / 90\n",
        "y2[y2 < 0] = 0 # Apply non-negativity constraint for y\n",
        "\n",
        "# Plot boundary lines\n",
        "ax.plot(x, y1, label=r'$13x + 26y \\leq 1040$', color='blue')\n",
        "ax.plot(x, y2, label=r'$75x + 90y \\leq 4500$', color='red')\n",
        "\n",
        "# Fill the feasible region\n",
        "# The feasible region is below both lines and above y=0 and to the right of x=0\n",
        "y_feasible = np.minimum(y1, y2)\n",
        "ax.fill_between(x, 0, y_feasible, where=(x >= 0), color='green', alpha=0.3, label='Feasible Region')\n",
        "\n",
        "# Set plot limits\n",
        "ax.set_xlim(0, 100)\n",
        "ax.set_ylim(0, 60)\n",
        "\n",
        "# Add labels and title\n",
        "ax.set_xlabel('Number of Standard Snowboards (x)')\n",
        "ax.set_ylabel('Number of Deluxe Snowboards (y)')\n",
        "ax.set_title('Feasible Region for Snowboard Production')\n",
        "\n",
        "# Add legend and grid\n",
        "ax.legend()\n",
        "ax.grid(True)\n",
        "\n",
        "plt.show()"
      ],
      "execution_count": 27,
      "outputs": [
        {
          "output_type": "display_data",
          "data": {
            "text/plain": [
              "<Figure size 1000x800 with 1 Axes>"
            ],
            "image/png": "[encoded data removed]"
          },
          "metadata": {}
        }
      ]
    },
    {
      "cell_type": "markdown",
      "metadata": {
        "id": "db81b958"
      },
      "source": [
        "## Find the corner points (graphical method)\n",
        "\n",
        "### Subtask:\n",
        "Calculate the coordinates of the vertices of the feasible region by finding the intersection points of the boundary lines within the feasible region.\n"
      ]
    },
    {
      "cell_type": "markdown",
      "metadata": {
        "id": "8774b4b6"
      },
      "source": [
        "**Reasoning**:\n",
        "Identify the boundary lines, calculate intersection points, check feasibility, and store the feasible corner points.\n",
        "\n"
      ]
    },
    {
      "cell_type": "code",
      "metadata": {
        "colab": {
          "base_uri": "https://localhost:8080/"
        },
        "id": "6df57c53",
        "outputId": "b15618d6-ad6d-4941-fbd8-4500978b3f8e"
      },
      "source": [
        "# Identify the equations of the boundary lines:\n",
        "# L1: x = 0 (Non-negativity constraint for x)\n",
        "# L2: y = 0 (Non-negativity constraint for y)\n",
        "# L3: 13x + 26y = 1040 (Production Hours Constraint)\n",
        "# L4: 75x + 90y = 4500 (Material Constraint)\n",
        "\n",
        "# Find the intersection points:\n",
        "\n",
        "# Intersection of L1 (x=0) and L2 (y=0)\n",
        "P1 = (0, 0)\n",
        "\n",
        "# Intersection of L1 (x=0) and L3 (13x + 26y = 1040)\n",
        "# 13(0) + 26y = 1040 => 26y = 1040 => y = 1040 / 26 = 40\n",
        "P2 = (0, 40)\n",
        "\n",
        "# Intersection of L1 (x=0) and L4 (75x + 90y = 4500)\n",
        "# 75(0) + 90y = 4500 => 90y = 4500 => y = 4500 / 90 = 50\n",
        "P3 = (0, 50) # Note: This point might not be feasible\n",
        "\n",
        "# Intersection of L2 (y=0) and L3 (13x + 26y = 1040)\n",
        "# 13x + 26(0) = 1040 => 13x = 1040 => x = 1040 / 13 = 80\n",
        "P4 = (80, 0)\n",
        "\n",
        "# Intersection of L2 (y=0) and L4 (75x + 90y = 4500)\n",
        "# 75x + 90(0) = 4500 => 75x = 4500 => x = 4500 / 75 = 60\n",
        "P5 = (60, 0)\n",
        "\n",
        "# Intersection of L3 (13x + 26y = 1040) and L4 (75x + 90y = 4500)\n",
        "# We can use substitution or elimination. Let's use elimination.\n",
        "# Multiply L3 by 75 and L4 by 13 to eliminate x:\n",
        "# 75 * (13x + 26y) = 75 * 1040  => 975x + 1950y = 78000\n",
        "# 13 * (75x + 90y) = 13 * 4500  => 975x + 1170y = 58500\n",
        "# Subtract the second new equation from the first:\n",
        "# (975x + 1950y) - (975x + 1170y) = 78000 - 58500\n",
        "# 780y = 19500\n",
        "# y = 19500 / 780 = 25\n",
        "\n",
        "# Substitute y = 25 into L3:\n",
        "# 13x + 26(25) = 1040\n",
        "# 13x + 650 = 1040\n",
        "# 13x = 1040 - 650\n",
        "# 13x = 390\n",
        "# x = 390 / 13 = 30\n",
        "P6 = (30, 25)\n",
        "\n",
        "# Check if each intersection point is in the feasible region (satisfies all inequalities)\n",
        "points = [P1, P2, P3, P4, P5, P6]\n",
        "feasible_points = []\n",
        "\n",
        "for p in points:\n",
        "    x, y = p\n",
        "    # Check non-negativity constraints\n",
        "    if x >= 0 and y >= 0:\n",
        "        # Check Production Hours Constraint: 13x + 26y <= 1040\n",
        "        if 13 * x + 26 * y <= 1040:\n",
        "            # Check Material Constraint: 75x + 90y <= 4500\n",
        "            if 75 * x + 90 * y <= 4500:\n",
        "                feasible_points.append(p)\n",
        "\n",
        "print(\"Corner points of the feasible region:\", feasible_points)"
      ],
      "execution_count": 28,
      "outputs": [
        {
          "output_type": "stream",
          "name": "stdout",
          "text": [
            "Corner points of the feasible region: [(0, 0), (0, 40), (60, 0), (30, 25)]\n"
          ]
        }
      ]
    },
    {
      "cell_type": "markdown",
      "metadata": {
        "id": "4ece591c"
      },
      "source": [
        "## Evaluate the objective function at corner points\n"
      ]
    },
    {
      "cell_type": "code",
      "metadata": {
        "colab": {
          "base_uri": "https://localhost:8080/"
        },
        "id": "f048860b",
        "outputId": "5967018f-c383-4d0b-ee2d-789e53ebc5cf"
      },
      "source": [
        "def calculate_revenue(x, y):\n",
        "  \"\"\"Calculates the total revenue for a given number of standard and deluxe snowboards.\"\"\"\n",
        "  return 180 * x + 252 * y\n",
        "\n",
        "# Iterate through the feasible corner points and calculate the revenue\n",
        "corner_point_revenues = []\n",
        "for point in feasible_points:\n",
        "    x, y = point\n",
        "    revenue = calculate_revenue(x, y)\n",
        "    corner_point_revenues.append((point, revenue))\n",
        "\n",
        "# Print the corner points and their corresponding revenue values\n",
        "print(\"Revenue at each feasible corner point:\")\n",
        "for point, revenue in corner_point_revenues:\n",
        "    print(f\"Point: {point}, Revenue = ${revenue}\")"
      ],
      "execution_count": 29,
      "outputs": [
        {
          "output_type": "stream",
          "name": "stdout",
          "text": [
            "Revenue at each feasible corner point:\n",
            "Point: (0, 0), Revenue = $0\n",
            "Point: (0, 40), Revenue = $10080\n",
            "Point: (60, 0), Revenue = $10800\n",
            "Point: (30, 25), Revenue = $11700\n"
          ]
        }
      ]
    },
    {
      "cell_type": "markdown",
      "metadata": {
        "id": "2dbe3de7"
      },
      "source": [
        "## Identify the optimal corner point (graphical method)\n",
        "\n"
      ]
    },
    {
      "cell_type": "markdown",
      "metadata": {
        "id": "7e4e3847"
      },
      "source": [
        "**Reasoning**:\n",
        "Identify the corner point with the maximum objective function value and print it, then store the optimal x, y, and maximum revenue in specified variables.\n",
        "\n"
      ]
    },
    {
      "cell_type": "code",
      "metadata": {
        "colab": {
          "base_uri": "https://localhost:8080/"
        },
        "id": "575b103d",
        "outputId": "eccc161f-aa5d-4eff-963f-1cceb943cfb8"
      },
      "source": [
        "# Find the corner point with the maximum objective function value\n",
        "optimal_point = None\n",
        "maximum_value = -float('inf') # Initialize with a very small value\n",
        "\n",
        "for point, value in corner_point_revenues:\n",
        "    if value > maximum_value:\n",
        "        maximum_value = value\n",
        "        optimal_point = point\n",
        "\n",
        "# Print the optimal corner point and the maximum value\n",
        "print(f\"\\nThe corner point that maximizes the objective function is: {optimal_point}\")\n",
        "print(f\"The maximum value of the objective function is: ${maximum_value}\")\n",
        "\n",
        "# Store the results in the specified variables\n",
        "graphical_optimal_x = optimal_point[0]\n",
        "graphical_optimal_y = optimal_point[1]\n",
        "graphical_maximum_revenue = maximum_value"
      ],
      "execution_count": 30,
      "outputs": [
        {
          "output_type": "stream",
          "name": "stdout",
          "text": [
            "\n",
            "The corner point that maximizes the objective function is: (30, 25)\n",
            "The maximum value of the objective function is: $11700\n"
          ]
        }
      ]
    },
    {
      "cell_type": "markdown",
      "metadata": {
        "id": "d0ab1fea"
      },
      "source": [
        "## Introduce slack variables\n",
        "\n"
      ]
    },
    {
      "cell_type": "code",
      "metadata": {
        "colab": {
          "base_uri": "https://localhost:8080/"
        },
        "id": "591c15ed",
        "outputId": "1b65e6f2-8028-44f2-a0f9-958a6cf7e0de"
      },
      "source": [
        "# Original inequality constraints:\n",
        "# 13x + 26y <= 1040\n",
        "# 75x + 90y <= 4500\n",
        "# x >= 0\n",
        "# y >= 0\n",
        "\n",
        "print(\"Original inequality constraints:\")\n",
        "print(\"13x + 26y <= 1040\")\n",
        "print(\"75x + 90y <= 4500\")\n",
        "print(\"x >= 0\")\n",
        "print(\"y >= 0\")\n",
        "\n",
        "# Introduce slack variables s1 and s2 (where s1 >= 0, s2 >= 0) to convert inequalities to equalities:\n",
        "# 13x + 26y + s1 = 1040\n",
        "# 75x + 90y + s2 = 4500\n",
        "\n",
        "print(\"\\nNew equality constraints with slack variables:\")\n",
        "print(\"13x + 26y + s1 = 1040\")\n",
        "print(\"75x + 90y + s2 = 4500\")\n",
        "print(\"where s1 >= 0 and s2 >= 0\")"
      ],
      "execution_count": 31,
      "outputs": [
        {
          "output_type": "stream",
          "name": "stdout",
          "text": [
            "Original inequality constraints:\n",
            "13x + 26y <= 1040\n",
            "75x + 90y <= 4500\n",
            "x >= 0\n",
            "y >= 0\n",
            "\n",
            "New equality constraints with slack variables:\n",
            "13x + 26y + s1 = 1040\n",
            "75x + 90y + s2 = 4500\n",
            "where s1 >= 0 and s2 >= 0\n"
          ]
        }
      ]
    },
    {
      "cell_type": "markdown",
      "metadata": {
        "id": "78672de7"
      },
      "source": [
        "## Set up for simplex method (optional but related to slack variables)\n"
      ]
    },
    {
      "cell_type": "code",
      "metadata": {
        "colab": {
          "base_uri": "https://localhost:8080/"
        },
        "id": "12555c27",
        "outputId": "9b2bc2c9-e366-43b5-e11b-48d8f0a42142"
      },
      "source": [
        "# 1. Objective function for Simplex (already in maximization form)\n",
        "print(\"Objective function: Maximize R = 180x + 252y\")\n",
        "\n",
        "# 2. Equality constraints with slack variables (from previous step)\n",
        "print(\"\\nEquality constraints with slack variables:\")\n",
        "print(\"13x + 26y + s1 = 1040\")\n",
        "print(\"75x + 90y + s2 = 4500\")\n",
        "print(\"x >= 0, y >= 0, s1 >= 0, s2 >= 0\")\n",
        "\n",
        "# 3. Initial Simplex Tableau structure\n",
        "print(\"\\nStructure of the Initial Simplex Tableau:\")\n",
        "print(\"-----------------------------------------------------------\")\n",
        "print(\"  |  x  |  y  | s1  | s2  | RHS |\")\n",
        "print(\"-----------------------------------------------------------\")\n",
        "print(\"s1|  13 |  26 |  1  |  0  | 1040|\") # Row for the first constraint\n",
        "print(\"s2|  75 |  90 |  0  |  1  | 4500|\") # Row for the second constraint\n",
        "print(\"-----------------------------------------------------------\")\n",
        "print(\"R | -180| -252|  0  |  0  |  0  |\") # Row for the objective function (coefficients negated)\n",
        "print(\"-----------------------------------------------------------\")\n",
        "\n",
        "# 4. Initial Basic and Non-Basic Variables\n",
        "print(\"\\nInitial Basic Variables: s1, s2\")\n",
        "print(\"Initial Non-Basic Variables: x, y\")"
      ],
      "execution_count": 32,
      "outputs": [
        {
          "output_type": "stream",
          "name": "stdout",
          "text": [
            "Objective function: Maximize R = 180x + 252y\n",
            "\n",
            "Equality constraints with slack variables:\n",
            "13x + 26y + s1 = 1040\n",
            "75x + 90y + s2 = 4500\n",
            "x >= 0, y >= 0, s1 >= 0, s2 >= 0\n",
            "\n",
            "Structure of the Initial Simplex Tableau:\n",
            "-----------------------------------------------------------\n",
            "  |  x  |  y  | s1  | s2  | RHS |\n",
            "-----------------------------------------------------------\n",
            "s1|  13 |  26 |  1  |  0  | 1040|\n",
            "s2|  75 |  90 |  0  |  1  | 4500|\n",
            "-----------------------------------------------------------\n",
            "R | -180| -252|  0  |  0  |  0  |\n",
            "-----------------------------------------------------------\n",
            "\n",
            "Initial Basic Variables: s1, s2\n",
            "Initial Non-Basic Variables: x, y\n"
          ]
        }
      ]
    },
    {
      "cell_type": "markdown",
      "metadata": {
        "id": "f739283e"
      },
      "source": [
        "## Solve using a built-in linear programming solver\n"
      ]
    },
    {
      "cell_type": "code",
      "metadata": {
        "colab": {
          "base_uri": "https://localhost:8080/"
        },
        "id": "6998b820",
        "outputId": "bfb00e08-c833-4bde-a436-02f3157c54c3"
      },
      "source": [
        "from scipy.optimize import linprog\n",
        "\n",
        "# Objective function coefficients (negated for minimization)\n",
        "# Maximize R = 180x + 252y\n",
        "# Minimize -R = -180x - 252y\n",
        "c_linprog = [-180, -252]\n",
        "\n",
        "# Inequality constraints coefficients and bounds\n",
        "# 13x + 26y <= 1040\n",
        "# 75x + 90y <= 4500\n",
        "# x >= 0, y >= 0\n",
        "A_ub = [\n",
        "    [13, 26],\n",
        "    [75, 90]\n",
        "]\n",
        "b_ub = [1040, 4500]\n",
        "\n",
        "# Bounds for the variables (x >= 0, y >= 0)\n",
        "x_bounds = (0, None)\n",
        "y_bounds = (0, None)\n",
        "bounds = [x_bounds, y_bounds]\n",
        "\n",
        "# Call linprog\n",
        "result = linprog(c_linprog, A_ub=A_ub, b_ub=b_ub, bounds=bounds)\n",
        "\n",
        "# Extract results\n",
        "solver_optimal_x1 = result.x[0] # Optimal number of standard snowboards\n",
        "solver_optimal_x2 = result.x[1] # Optimal number of deluxe snowboards\n",
        "# Negate the objective function value because linprog minimizes\n",
        "solver_maximum_value = -result.fun # Maximum revenue\n",
        "\n",
        "# Print the results\n",
        "print(f\"Optimal number of Standard Snowboards (from solver): {solver_optimal_x1}\")\n",
        "print(f\"Optimal number of Deluxe Snowboards (from solver): {solver_optimal_x2}\")\n",
        "print(f\"Maximum revenue (from solver): ${solver_maximum_value}\")"
      ],
      "execution_count": 33,
      "outputs": [
        {
          "output_type": "stream",
          "name": "stdout",
          "text": [
            "Optimal number of Standard Snowboards (from solver): 29.999999999999968\n",
            "Optimal number of Deluxe Snowboards (from solver): 25.000000000000025\n",
            "Maximum revenue (from solver): $11700.0\n"
          ]
        }
      ]
    },
    {
      "cell_type": "markdown",
      "metadata": {
        "id": "bcbe87a2"
      },
      "source": [
        "## Compare results:\n",
        "Compare the optimal number of standard and deluxe snowboards and the maximum revenue obtained from both the graphical method and the built-in solver and print a summary.\n"
      ]
    },
    {
      "cell_type": "code",
      "metadata": {
        "colab": {
          "base_uri": "https://localhost:8080/"
        },
        "id": "b6ce2c2a",
        "outputId": "1d64cb6b-4fd5-48ce-ebd5-141d61d0d099"
      },
      "source": [
        "print(\"--- Comparison of Results ---\")\n",
        "print(f\"Graphical Method Optimal Standard Snowboards: {graphical_optimal_x}\")\n",
        "print(f\"Graphical Method Optimal Deluxe Snowboards: {graphical_optimal_y}\")\n",
        "print(f\"Graphical Method Maximum Revenue: ${graphical_maximum_revenue}\")\n",
        "print(\"-\" * 27)\n",
        "print(f\"Solver Method Optimal Standard Snowboards: {solver_optimal_x1}\")\n",
        "print(f\"Solver Method Optimal Deluxe Snowboards: {solver_optimal_x2}\")\n",
        "print(f\"Solver Method Maximum Revenue: ${solver_maximum_value}\")\n",
        "print(\"-\" * 27)\n",
        "\n",
        "# Check if the results are approximately equal\n",
        "tolerance = 1e-9 # Define a tolerance for floating-point comparison\n",
        "\n",
        "if (abs(graphical_optimal_x - solver_optimal_x1) < tolerance and\n",
        "    abs(graphical_optimal_y - solver_optimal_x2) < tolerance and\n",
        "    abs(graphical_maximum_revenue - solver_maximum_value) < tolerance):\n",
        "    print(\"The results from the graphical method and the solver are in agreement.\")\n",
        "else:\n",
        "    print(\"The results from the graphical method and the solver differ.\")"
      ],
      "execution_count": 34,
      "outputs": [
        {
          "output_type": "stream",
          "name": "stdout",
          "text": [
            "--- Comparison of Results ---\n",
            "Graphical Method Optimal Standard Snowboards: 30\n",
            "Graphical Method Optimal Deluxe Snowboards: 25\n",
            "Graphical Method Maximum Revenue: $11700\n",
            "---------------------------\n",
            "Solver Method Optimal Standard Snowboards: 29.999999999999968\n",
            "Solver Method Optimal Deluxe Snowboards: 25.000000000000025\n",
            "Solver Method Maximum Revenue: $11700.0\n",
            "---------------------------\n",
            "The results from the graphical method and the solver are in agreement.\n"
          ]
        }
      ]
    }
  ]
}