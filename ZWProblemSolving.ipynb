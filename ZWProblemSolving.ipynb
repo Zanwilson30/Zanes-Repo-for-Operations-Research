{
  "nbformat": 4,
  "nbformat_minor": 0,
  "metadata": {
    "colab": {
      "provenance": []
    },
    "kernelspec": {
      "name": "python3",
      "display_name": "Python 3"
    },
    "language_info": {
      "name": "python"
    }
  },
  "cells": [
    {
      "cell_type": "code",
      "metadata": {
        "colab": {
          "base_uri": "https://localhost:8080/"
        },
        "id": "e83711a5",
        "outputId": "992c7982-1a76-4ec4-d2cf-2373dbc84847"
      },
      "source": [
        "# Calculate 100**13 - 26\n",
        "number = 100**13 - 26\n",
        "\n",
        "# Convert the number to a string to iterate through digits\n",
        "number_str = str(number)\n",
        "\n",
        "# Calculate the sum of the digits\n",
        "digit_sum = sum(int(digit) for digit in number_str)\n",
        "\n",
        "# Print the sum of the digits\n",
        "print(f\"The sum of the digits of 100**13 - 26 is: {digit_sum}\")"
      ],
      "execution_count": 2,
      "outputs": [
        {
          "output_type": "stream",
          "name": "stdout",
          "text": [
            "The sum of the digits of 100**13 - 26 is: 227\n"
          ]
        }
      ]
    },
    {
      "cell_type": "code",
      "metadata": {
        "colab": {
          "base_uri": "https://localhost:8080/"
        },
        "id": "74524659",
        "outputId": "3a38cb25-7824-40d7-ef91-681329185b38"
      },
      "source": [
        "def count_trailing_zeros(n):\n",
        "    \"\"\"\n",
        "    Counts the number of trailing zeros in the factorial of a given number.\n",
        "\n",
        "    Args:\n",
        "        n: The number for which to calculate the factorial's trailing zeros.\n",
        "\n",
        "    Returns:\n",
        "        The number of trailing zeros in n!.\n",
        "    \"\"\"\n",
        "    count = 0\n",
        "    i = 5\n",
        "    while n // i >= 1:\n",
        "        count += n // i\n",
        "        i *= 5\n",
        "    return count\n",
        "\n",
        "# Calculate and print the number of trailing zeros in 1000!\n",
        "result = count_trailing_zeros(1000)\n",
        "print(f\"The number of trailing zeros in 1000! is: {result}\")"
      ],
      "execution_count": 1,
      "outputs": [
        {
          "output_type": "stream",
          "name": "stdout",
          "text": [
            "The number of trailing zeros in 1000! is: 249\n"
          ]
        }
      ]
    },
    {
      "cell_type": "code",
      "source": [
        "# Calculate handshakes between the two teams (11 players each)\n",
        "# Each player from one team shakes hands with each player from the other team\n",
        "handshakes_between_teams = 11 * 11\n",
        "\n",
        "# Calculate handshakes within the winning team (11 players)\n",
        "# This is a combination problem: nC2 = n * (n-1) / 2\n",
        "n = 11\n",
        "handshakes_within_winning_team = n * (n - 1) / 2\n",
        "\n",
        "# Total handshakes\n",
        "total_handshakes = handshakes_between_teams + handshakes_within_winning_team\n",
        "\n",
        "print(f\"Handshakes between teams: {handshakes_between_teams}\")\n",
        "print(f\"Handshakes within the winning team: {handshakes_within_winning_team}\")\n",
        "print(f\"Total handshakes: {total_handshakes}\")"
      ],
      "metadata": {
        "colab": {
          "base_uri": "https://localhost:8080/"
        },
        "id": "dJ6SdjXVY94E",
        "outputId": "0c0f9454-e6c0-4168-ba02-8ad3f071dc82"
      },
      "execution_count": 2,
      "outputs": [
        {
          "output_type": "stream",
          "name": "stdout",
          "text": [
            "Handshakes between teams: 121\n",
            "Handshakes within the winning team: 55.0\n",
            "Total handshakes: 176.0\n"
          ]
        }
      ]
    },
    {
      "cell_type": "markdown",
      "source": [
        "**Harder Handshakes**\n",
        "Total of 10 people at the party (Mr. and Mrs. Smith + 4 other couples = 5 = 10 people). Each person can only shake hands with 8 other people. Mr. Smith got 9 different answers, meaning it must be from 0-8. The person who shook 8 hands and the person who shook 0 hands must be a couple and if this pattern continues the pairs come out to be (8,0), (7,1), (6,2), and (5,3). Which in this case the only person not included in these pairs is Mr. Smith. Meaning, Mr. Smith shook hands 4 times."
      ],
      "metadata": {
        "id": "eV-LIwpBbPEj"
      }
    }
  ]
}