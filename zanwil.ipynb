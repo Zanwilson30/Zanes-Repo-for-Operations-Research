{
 "cells": [
  {
   "cell_type": "markdown",
   "id": "2abc02f7-7a4a-4ed4-8912-aecf10ed6640",
   "metadata": {
    "panel-layout": {
     "height": 144.625,
     "visible": true,
     "width": 100
    }
   },
   "source": [
    "# Zane Wilson\n",
    "# Operations Research \n",
    "# Lab 0"
   ]
  },
  {
   "cell_type": "markdown",
   "id": "bccaf6b9-c2b5-44d1-b9af-b61aa19058e1",
   "metadata": {},
   "source": [
    "# My favorite function would be the fact that you have a calculator built into the software, making it a very useful tool where you can calculate AND code in one spot. "
   ]
  },
  {
   "cell_type": "code",
   "execution_count": null,
   "id": "c556d8c8-1236-4553-bd1c-7ce1b6ff3e94",
   "metadata": {},
   "outputs": [],
   "source": [
    "def calculator(num1, num2, operation):\n",
    "    if operation == '+':\n",
    "        return num1 + num2\n",
    "    elif operation == '-':\n",
    "        return num1 - num2\n",
    "    elif operation == '*':\n",
    "        return num1 * num2\n",
    "    elif operation == '/':\n",
    "        if num2 != 0:\n",
    "            return num1 / num2\n",
    "        else:\n",
    "            return \"Error: Division by zero\"\n",
    "    else:\n",
    "        return \"Invalid Operation\""
   ]
  },
  {
   "cell_type": "code",
   "execution_count": 11,
   "id": "8f995a1f-f765-458c-a975-24bd7adaeb56",
   "metadata": {},
   "outputs": [
    {
     "data": {
      "text/plain": [
       "5.0"
      ]
     },
     "execution_count": 11,
     "metadata": {},
     "output_type": "execute_result"
    }
   ],
   "source": [
    "100/20"
   ]
  },
  {
   "cell_type": "code",
   "execution_count": 2,
   "id": "262315db-5da1-4ad0-a75d-e756d6312741",
   "metadata": {
    "scrolled": true
   },
   "outputs": [
    {
     "data": {
      "text/plain": [
       "18.8"
      ]
     },
     "execution_count": 2,
     "metadata": {},
     "output_type": "execute_result"
    }
   ],
   "source": [
    "(71+55-32)/5"
   ]
  },
  {
   "cell_type": "code",
   "execution_count": 4,
   "id": "c53ece1a-678b-4c63-96bc-2799aa77a7a2",
   "metadata": {},
   "outputs": [
    {
     "data": {
      "text/plain": [
       "21.0"
      ]
     },
     "execution_count": 4,
     "metadata": {},
     "output_type": "execute_result"
    }
   ],
   "source": [
    "15*7/5"
   ]
  },
  {
   "cell_type": "code",
   "execution_count": 8,
   "id": "7f53a58a-338c-4f6c-94f6-2290272ca150",
   "metadata": {},
   "outputs": [
    {
     "data": {
      "text/plain": [
       "0"
      ]
     },
     "execution_count": 8,
     "metadata": {},
     "output_type": "execute_result"
    }
   ],
   "source": [
    "(14+7-21)*5"
   ]
  },
  {
   "cell_type": "code",
   "execution_count": 7,
   "id": "b3e26c21-95cc-4a82-beb2-21bb93f1ef9f",
   "metadata": {},
   "outputs": [
    {
     "data": {
      "text/plain": [
       "4.0"
      ]
     },
     "execution_count": 7,
     "metadata": {},
     "output_type": "execute_result"
    }
   ],
   "source": [
    "(5*4)/(7-2)"
   ]
  },
  {
   "cell_type": "code",
   "execution_count": 6,
   "id": "b7df971b-4ebe-4a2a-a8bc-7b588cf83a37",
   "metadata": {},
   "outputs": [
    {
     "data": {
      "text/plain": [
       "512.0"
      ]
     },
     "execution_count": 6,
     "metadata": {},
     "output_type": "execute_result"
    }
   ],
   "source": [
    "1298/2+283-420"
   ]
  },
  {
   "cell_type": "code",
   "execution_count": 5,
   "id": "162f3e9b-6349-4eac-a1b9-37d4fcf2989f",
   "metadata": {},
   "outputs": [
    {
     "data": {
      "text/plain": [
       "8.0"
      ]
     },
     "execution_count": 5,
     "metadata": {},
     "output_type": "execute_result"
    }
   ],
   "source": [
    "5+6/2"
   ]
  },
  {
   "cell_type": "code",
   "execution_count": 9,
   "id": "c565d52e-df8b-496b-933a-a4c3246f5570",
   "metadata": {},
   "outputs": [
    {
     "data": {
      "text/plain": [
       "-5.777777777777828"
      ]
     },
     "execution_count": 9,
     "metadata": {},
     "output_type": "execute_result"
    }
   ],
   "source": [
    "1539-1286*22/18+27"
   ]
  },
  {
   "cell_type": "code",
   "execution_count": 10,
   "id": "963f4047-fc65-42fb-aed6-844651342027",
   "metadata": {},
   "outputs": [
    {
     "data": {
      "text/plain": [
       "14446.0"
      ]
     },
     "execution_count": 10,
     "metadata": {},
     "output_type": "execute_result"
    }
   ],
   "source": [
    "2255*32/5+14"
   ]
  },
  {
   "cell_type": "markdown",
   "id": "28371566-2739-4811-9cdc-ec886c51978d",
   "metadata": {},
   "source": [
    "# I got all these values using the calculator I set up with code, although I'm not sure how to def PEMDAS using code, but the software seemed to do it for me. "
   ]
  }
 ],
 "metadata": {
  "kernelspec": {
   "display_name": "anaconda-ai-2024.04-py310",
   "language": "python",
   "name": "conda-env-anaconda-ai-2024.04-py310-py"
  },
  "language_info": {
   "codemirror_mode": {
    "name": "ipython",
    "version": 3
   },
   "file_extension": ".py",
   "mimetype": "text/x-python",
   "name": "python",
   "nbconvert_exporter": "python",
   "pygments_lexer": "ipython3",
   "version": "3.10.13"
  },
  "panel-cell-order": [
   "2abc02f7-7a4a-4ed4-8912-aecf10ed6640"
  ]
 },
 "nbformat": 4,
 "nbformat_minor": 5
}
